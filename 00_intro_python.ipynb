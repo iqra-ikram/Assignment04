{
  "nbformat": 4,
  "nbformat_minor": 0,
  "metadata": {
    "colab": {
      "provenance": [],
      "authorship_tag": "ABX9TyOWYisw4XKDVJmpOdYIKae2",
      "include_colab_link": true
    },
    "kernelspec": {
      "name": "python3",
      "display_name": "Python 3"
    },
    "language_info": {
      "name": "python"
    }
  },
  "cells": [
    {
      "cell_type": "markdown",
      "metadata": {
        "id": "view-in-github",
        "colab_type": "text"
      },
      "source": [
        "<a href=\"https://colab.research.google.com/github/iqra-ikram/Assignment04/blob/main/00_intro_python.ipynb\" target=\"_parent\"><img src=\"https://colab.research.google.com/assets/colab-badge.svg\" alt=\"Open In Colab\"/></a>"
      ]
    },
    {
      "cell_type": "code",
      "execution_count": null,
      "metadata": {
        "colab": {
          "base_uri": "https://localhost:8080/"
        },
        "id": "flXJsboE_6sC",
        "outputId": "32cfe34f-c971-4484-fa7c-80a888bc06d3"
      },
      "outputs": [
        {
          "output_type": "stream",
          "name": "stdout",
          "text": [
            "Print The Two_numbers\n",
            "Enter Your First Number : 1\n",
            "Enter Your Seconf Number :7\n",
            "Your Total Number 1 and 7 is 8\n"
          ]
        }
      ],
      "source": [
        "print('Print The Two_numbers')\n",
        "def add():\n",
        "    Num1 = int(input('Enter Your First Number : '))\n",
        "    Num2 = int(input('Enter Your Seconf Number :'))\n",
        "    Total = int(Num1 + Num2)\n",
        "    print (f'Your Total Number {Num1} and {Num2} is {Total}')\n",
        "\n",
        "if __name__ == \"__main__\":\n",
        " add()"
      ]
    },
    {
      "cell_type": "code",
      "source": [
        "print('02_agreement_bot')\n",
        "def bot():\n",
        "  animal = str(input('Enter Your Favourite Animal : '))\n",
        "  print(f' My Favourite Animal is also {animal}')\n",
        "if __name__ == \"__main__\":\n",
        "  bot()\n"
      ],
      "metadata": {
        "colab": {
          "base_uri": "https://localhost:8080/"
        },
        "id": "99_K9h4UA8EA",
        "outputId": "d668aaf4-a84d-4d01-d285-dbf032398685"
      },
      "execution_count": null,
      "outputs": [
        {
          "output_type": "stream",
          "name": "stdout",
          "text": [
            "02_agreement_bot\n",
            "Enter Your Favourite Animal : cat\n",
            " My Favourite Animal is also cat\n"
          ]
        }
      ]
    },
    {
      "cell_type": "code",
      "source": [
        "print('03_fahrenheit_to_celsius')\n",
        "\n",
        "def temp():\n",
        "  print('Converting The Fahrenheit Value to Celsius')\n",
        "  Fahrenheit = float(input('Enter Your Fahrenheit Value : '))\n",
        "  Celsius = (Fahrenheit - 32) * 5.0/9.0\n",
        "  print(f'Your Fahrenheit Value {Fahrenheit} is {Celsius}')\n",
        "if __name__ == \"__main__\":\n",
        "  temp()\n",
        "\n"
      ],
      "metadata": {
        "id": "LT4m0EWfCt3Z",
        "colab": {
          "base_uri": "https://localhost:8080/"
        },
        "outputId": "8e973db9-bfcd-473a-9798-06f818581760"
      },
      "execution_count": 7,
      "outputs": [
        {
          "output_type": "stream",
          "name": "stdout",
          "text": [
            "03_fahrenheit_to_celsius\n",
            "Converting The Fahrenheit Value to Celsius\n",
            "Enter Your Fahrenheit Value : 12\n",
            "Your Fahrenheit Value 12.0 is -11.11111111111111\n"
          ]
        }
      ]
    },
    {
      "cell_type": "code",
      "source": [
        "print(\"04_how_old_are_they\")\n",
        "\n",
        "def old():\n",
        "  anthon:int = 21\n",
        "  beth:int = anthon +6\n",
        "  chen : int = beth + 20\n",
        "  drew : int = chen + anthon\n",
        "  Ethan : int = chen\n",
        "  print(f'Anthon is {anthon} years old')\n",
        "  print(f'Beth is {beth} years old')\n",
        "  print(f'Chen is {chen} years old')\n",
        "  print(f'Drew is {drew} years old')\n",
        "  print(f'Ethan is {Ethan} years old')\n",
        "if __name__ == \"__main__\":\n",
        "  old()\n"
      ],
      "metadata": {
        "colab": {
          "base_uri": "https://localhost:8080/"
        },
        "id": "NaeSG_NjEvLT",
        "outputId": "11932fa3-9f75-45ad-80f2-e0cc25a69b2a"
      },
      "execution_count": 9,
      "outputs": [
        {
          "output_type": "stream",
          "name": "stdout",
          "text": [
            "04_how_old_are_they\n",
            "Anthon is 21 years old\n",
            "Beth is 27 years old\n",
            "Chen is 47 years old\n",
            "Drew is 68 years old\n",
            "Ethan is 47 years old\n"
          ]
        }
      ]
    },
    {
      "cell_type": "code",
      "source": [
        "print('05_triangle_perimeter')\n",
        "\n",
        "def triangle():\n",
        "  print('Calculating The Perimeter of a Triangle')\n",
        "  Side1: float = float(input('Enter The First Side of the Triangle : '))\n",
        "  side2: float = float(input('Enter The Second Side of the Triangle : '))\n",
        "  side3: float = float(input('Enter The Third Side of the Triangle : '))\n",
        "  perimeter :float = float (Side1 + side2 + side3)\n",
        "  print(f'The Perimeter of the Triangle is {perimeter}')\n",
        "if __name__ == \"__main__\":\n",
        "  triangle()"
      ],
      "metadata": {
        "colab": {
          "base_uri": "https://localhost:8080/"
        },
        "id": "CDdJN6qCGEpf",
        "outputId": "1c769795-e89f-4f1e-8149-80ac2f730820"
      },
      "execution_count": 12,
      "outputs": [
        {
          "output_type": "stream",
          "name": "stdout",
          "text": [
            "05_triangle_perimeter\n",
            "Calculating The Perimeter of a Triangle\n",
            "Enter The First Side of the Triangle : 2\n",
            "Enter The Second Side of the Triangle : 5\n",
            "Enter The Third Side of the Triangle : 8\n",
            "The Perimeter of the Triangle is 15.0\n"
          ]
        }
      ]
    },
    {
      "cell_type": "code",
      "source": [
        "print('06_square_number')\n",
        "def square():\n",
        "  print('This Code is About Square of Given Number')\n",
        "  num1:int = int(input('Enter Your Number : '))\n",
        "  print(f'The Square of {num1} is {num1 * num1}')\n",
        "if __name__ == \"__main__\":\n",
        "  square()\n",
        "\n"
      ],
      "metadata": {
        "colab": {
          "base_uri": "https://localhost:8080/"
        },
        "id": "AIVvFWCKG_9m",
        "outputId": "c1abe512-e3bf-45e4-9fd2-b386ff88a0be"
      },
      "execution_count": 18,
      "outputs": [
        {
          "output_type": "stream",
          "name": "stdout",
          "text": [
            "06_square_number\n",
            "This Code is About Square of Given Number\n",
            "Enter Your Number : 4\n",
            "The Square of 4 is 16\n"
          ]
        }
      ]
    }
  ]
}