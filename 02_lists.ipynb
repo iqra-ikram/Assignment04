{
  "nbformat": 4,
  "nbformat_minor": 0,
  "metadata": {
    "colab": {
      "provenance": [],
      "authorship_tag": "ABX9TyOGmCIum7yvAytYIYb0cUZP",
      "include_colab_link": true
    },
    "kernelspec": {
      "name": "python3",
      "display_name": "Python 3"
    },
    "language_info": {
      "name": "python"
    }
  },
  "cells": [
    {
      "cell_type": "markdown",
      "metadata": {
        "id": "view-in-github",
        "colab_type": "text"
      },
      "source": [
        "<a href=\"https://colab.research.google.com/github/iqra-ikram/Assignment04/blob/main/02_lists.ipynb\" target=\"_parent\"><img src=\"https://colab.research.google.com/assets/colab-badge.svg\" alt=\"Open In Colab\"/></a>"
      ]
    },
    {
      "cell_type": "code",
      "execution_count": null,
      "metadata": {
        "colab": {
          "base_uri": "https://localhost:8080/"
        },
        "id": "s5wNsqhYZcgE",
        "outputId": "8235e057-fd19-48d7-cd9e-ef2a7625bc5e"
      },
      "outputs": [
        {
          "output_type": "stream",
          "name": "stdout",
          "text": [
            "01_add_many_number\n",
            "228\n"
          ]
        }
      ],
      "source": [
        "print('01_add_many_number')\n",
        "\n",
        "def add_many(*args):\n",
        "    result = 0\n",
        "    for i in args:\n",
        "        result = result + i\n",
        "    return result\n",
        "\n",
        "result = add_many(7,2,3,8,7,201)\n",
        "print(result)"
      ]
    },
    {
      "cell_type": "code",
      "source": [
        "print('02_double_list')\n",
        "\n",
        "def double_list():\n",
        "    numbers: list[int] = [1,2,3,4]\n",
        "    result = []\n",
        "    for number in numbers:\n",
        "        result.append(number * 2)\n",
        "    return result\n",
        "\n",
        "result = double_list()\n",
        "print(result)\n",
        "if __name__ == '__main__':\n",
        "    print('02_double_list')\n"
      ],
      "metadata": {
        "colab": {
          "base_uri": "https://localhost:8080/"
        },
        "id": "fGnnNHgnZ-na",
        "outputId": "52b0db49-07ca-4649-dd32-53f45a3e7fc5"
      },
      "execution_count": null,
      "outputs": [
        {
          "output_type": "stream",
          "name": "stdout",
          "text": [
            "02_double_list\n",
            "[2, 4, 6, 8]\n",
            "02_double_list\n"
          ]
        }
      ]
    },
    {
      "cell_type": "code",
      "source": [
        "print('04_flowing_with_data_structures')\n",
        "\n",
        "def copies(lst, data):\n",
        "    for i in range(4):\n",
        "        lst.append(data)  # Append data 4 times\n",
        "\n",
        "def main():\n",
        "    message = input('Enter a message to copy: ')  # Taking input from user\n",
        "    lst = []  # Empty list\n",
        "    print('Before list:', lst)\n",
        "\n",
        "    copies(lst, message)  # Calling function\n",
        "\n",
        "    print('After list:', lst)  # Output modified list\n",
        "\n",
        "if __name__ == '__main__':\n",
        "    main()\n",
        "\n",
        "\n"
      ],
      "metadata": {
        "colab": {
          "base_uri": "https://localhost:8080/"
        },
        "id": "xtNKLhSpbPjX",
        "outputId": "2632f591-6f5b-4a7f-d6d0-18fa03a59f97"
      },
      "execution_count": 3,
      "outputs": [
        {
          "output_type": "stream",
          "name": "stdout",
          "text": [
            "04_flowing_with_data_structures\n",
            "Enter a message to copy: iqra\n",
            "Before list: []\n",
            "After list: ['iqra', 'iqra', 'iqra', 'iqra']\n"
          ]
        }
      ]
    },
    {
      "cell_type": "code",
      "source": [
        "print('05_get_first_element')\n",
        "\n",
        "def get_first_element(lst):\n",
        "    if lst:  # Ensure the list is not empty\n",
        "        print(lst[0])\n",
        "    else:\n",
        "        print(\"The list is empty.\")\n",
        "\n",
        "def get_list():\n",
        "    lst = []\n",
        "    element = input('Enter an element to add in the list: ')\n",
        "    while element != \"\":\n",
        "        lst.append(element)\n",
        "        element = input('Enter an element to add in the list: ')\n",
        "    return lst\n",
        "\n",
        "def main():\n",
        "    my_list = get_list()  # Correct variable naming\n",
        "    get_first_element(my_list)\n",
        "\n",
        "if __name__ == '__main__':\n",
        "    print('05_get_first_element')\n",
        "    main()  # Call main function\n"
      ],
      "metadata": {
        "colab": {
          "base_uri": "https://localhost:8080/"
        },
        "id": "YYuGcE8ZXP2X",
        "outputId": "e4857cf4-55fd-4614-932b-e23fbc9ae2be"
      },
      "execution_count": 6,
      "outputs": [
        {
          "output_type": "stream",
          "name": "stdout",
          "text": [
            "05_get_first_element\n",
            "05_get_first_element\n",
            "Enter an element to add in the list: cake\n",
            "Enter an element to add in the list: biscuit\n",
            "Enter an element to add in the list: milk\n",
            "Enter an element to add in the list: cookie\n",
            "Enter an element to add in the list: one\n",
            "Enter an element to add in the list: cone\n",
            "Enter an element to add in the list: \n",
            "cake\n"
          ]
        }
      ]
    },
    {
      "cell_type": "code",
      "source": [
        "print('get_last_element')\n",
        "\n",
        "def get_last_element(lst):  # Ye function last element print karega\n",
        "    if lst:  # the list is not empty\n",
        "        print(lst[-1])\n",
        "    else:\n",
        "        print(\"The list is empty.\")\n",
        "\n",
        "def get_list():  # Ye function user se list lega\n",
        "    lst = []\n",
        "    element = input('Enter an element to add in the list: ')\n",
        "    while element != \"\":\n",
        "        lst.append(element)\n",
        "        element = input('Enter an element to add in the list: ')\n",
        "    return lst\n",
        "\n",
        "def main():\n",
        "    my_list = get_list()  # Sahi function call\n",
        "    get_last_element(my_list)  # Ab sahi function milega\n",
        "\n",
        "if __name__ == '__main__':\n",
        "    main()  # Call main function\n"
      ],
      "metadata": {
        "colab": {
          "base_uri": "https://localhost:8080/"
        },
        "id": "m3J6_HvYZxXN",
        "outputId": "acb12802-2deb-49d4-b36b-4e34eaa30795"
      },
      "execution_count": 10,
      "outputs": [
        {
          "output_type": "stream",
          "name": "stdout",
          "text": [
            "get_last_element\n",
            "Enter an element to add in the list: iqra\n",
            "Enter an element to add in the list: hina\n",
            "Enter an element to add in the list: sana\n",
            "Enter an element to add in the list: mehak\n",
            "Enter an element to add in the list: bilal\n",
            "Enter an element to add in the list: \n",
            "bilal\n"
          ]
        }
      ]
    },
    {
      "cell_type": "code",
      "source": [
        "print('07_get_list')\n",
        "\n",
        "def main():\n",
        "    lst = []\n",
        "    val = input('Enter a value to add in the list (or press Enter to stop): ')\n",
        "\n",
        "    while val:\n",
        "        lst.append(val)\n",
        "        val = input('Enter a value to add in the list (or press Enter to stop): ')\n",
        "\n",
        "    if lst:\n",
        "        print('Here’s the final list:', lst)\n",
        "    else:\n",
        "        print('You did not enter any values.')\n",
        "\n",
        "if __name__ == '__main__':\n",
        "    main()\n"
      ],
      "metadata": {
        "colab": {
          "base_uri": "https://localhost:8080/"
        },
        "id": "hHx5MUrNbCeq",
        "outputId": "6c71d5a0-485c-4f06-a6ba-f43c2c18d2eb"
      },
      "execution_count": 13,
      "outputs": [
        {
          "output_type": "stream",
          "name": "stdout",
          "text": [
            "07_get_list\n",
            "Enter a value to add in the list (or press Enter to stop): iqra\n",
            "Enter a value to add in the list (or press Enter to stop): sana\n",
            "Enter a value to add in the list (or press Enter to stop): hiba\n",
            "Enter a value to add in the list (or press Enter to stop): maham\n",
            "Enter a value to add in the list (or press Enter to stop): muskan\n",
            "Enter a value to add in the list (or press Enter to stop): saba\n",
            "Enter a value to add in the list (or press Enter to stop): \n",
            "Here’s the final list: ['iqra', 'sana', 'hiba', 'maham', 'muskan', 'saba']\n"
          ]
        }
      ]
    },
    {
      "cell_type": "code",
      "source": [
        "print('08_shorten')\n",
        "\n",
        "Max_length = 3  # Fixing spelling mistake\n",
        "\n",
        "def shorten(lst):\n",
        "    while len(lst) > Max_length:  # Checking if list size is greater than max allowed length\n",
        "        last_element = lst.pop()\n",
        "        print(\"Removed:\", last_element)  # Showing removed elements\n",
        "\n",
        "    print(\"Final shortened list:\", lst)  # Printing final list after shortening\n",
        "\n",
        "def get_lst():\n",
        "    lst = []\n",
        "    element = input('Enter an element to add to the list: ')  # Fixed typo\n",
        "\n",
        "    while element != \"\":  # Keep taking input until empty\n",
        "        lst.append(element)\n",
        "        element = input('Enter an element to add to the list: ')\n",
        "\n",
        "    return lst\n",
        "\n",
        "def main():\n",
        "    lst = get_lst()  # Get user input list\n",
        "    shorten(lst)  # Shorten the list if needed\n",
        "\n",
        "if __name__ == '__main__':\n",
        "    print('08_shorten')\n",
        "    main()\n",
        "\n"
      ],
      "metadata": {
        "colab": {
          "base_uri": "https://localhost:8080/"
        },
        "id": "0ivXzHQ5c5mf",
        "outputId": "7dac7b36-5a4f-4078-e0fa-6ef24dffaf9e"
      },
      "execution_count": 21,
      "outputs": [
        {
          "output_type": "stream",
          "name": "stdout",
          "text": [
            "08_shorten\n",
            "08_shorten\n",
            "Enter an element to add to the list: laptop\n",
            "Enter an element to add to the list: mobile\n",
            "Enter an element to add to the list: Tv\n",
            "Enter an element to add to the list: Ac\n",
            "Enter an element to add to the list: Computer\n",
            "Enter an element to add to the list: \n",
            "Removed: Computer\n",
            "Removed: Ac\n",
            "Final shortened list: ['laptop', 'mobile', 'Tv']\n"
          ]
        }
      ]
    }
  ]
}