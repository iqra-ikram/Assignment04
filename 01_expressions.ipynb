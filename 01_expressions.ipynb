{
  "nbformat": 4,
  "nbformat_minor": 0,
  "metadata": {
    "colab": {
      "provenance": [],
      "authorship_tag": "ABX9TyOsL6hjO2m1q6ZtwIP8KBff",
      "include_colab_link": true
    },
    "kernelspec": {
      "name": "python3",
      "display_name": "Python 3"
    },
    "language_info": {
      "name": "python"
    }
  },
  "cells": [
    {
      "cell_type": "markdown",
      "metadata": {
        "id": "view-in-github",
        "colab_type": "text"
      },
      "source": [
        "<a href=\"https://colab.research.google.com/github/iqra-ikram/Assignment04/blob/main/01_expressions.ipynb\" target=\"_parent\"><img src=\"https://colab.research.google.com/assets/colab-badge.svg\" alt=\"Open In Colab\"/></a>"
      ]
    },
    {
      "cell_type": "code",
      "execution_count": 27,
      "metadata": {
        "colab": {
          "base_uri": "https://localhost:8080/"
        },
        "id": "R6m3fd5cLMS3",
        "outputId": "94bc74d5-ef54-42f9-aea8-780dda52b271"
      },
      "outputs": [
        {
          "output_type": "stream",
          "name": "stdout",
          "text": [
            "01_dicesimulator\n",
            "dice1 in main() starts as: 10\n",
            "Total of Two dice: 4\n",
            "Rolled dice: 3, 1\n",
            "Total of Two dice: 11\n",
            "Rolled dice: 6, 5\n",
            "Total of Two dice: 11\n",
            "Rolled dice: 5, 6\n",
            "dice1 in main() is: 10\n"
          ]
        }
      ],
      "source": [
        "import random\n",
        "\n",
        "print('01_dicesimulator')\n",
        "\n",
        "def roll_dice():\n",
        "    dice1: int = random.randint(1, 6)\n",
        "    dice2: int = random.randint(1, 6)\n",
        "    total: int = dice1 + dice2\n",
        "    print(f'Total of Two dice: {total}')\n",
        "    return dice1, dice2  # Returning values\n",
        "\n",
        "def main():\n",
        "    dice1: int = 10\n",
        "    print('dice1 in main() starts as: ' + str(dice1))\n",
        "\n",
        "    # Calling the function and storing returned values\n",
        "    d1, d2 = roll_dice()\n",
        "    print(f'Rolled dice: {d1}, {d2}')\n",
        "\n",
        "    d1, d2 = roll_dice()\n",
        "    print(f'Rolled dice: {d1}, {d2}')\n",
        "\n",
        "    d1, d2 = roll_dice()\n",
        "    print(f'Rolled dice: {d1}, {d2}')\n",
        "\n",
        "    print('dice1 in main() is: ' + str(dice1))\n",
        "\n",
        "# Ensuring the script runs properly\n",
        "if __name__ == '__main__':\n",
        "    main()\n",
        "\n",
        "\n",
        "\n"
      ]
    },
    {
      "cell_type": "code",
      "source": [
        "def energy():\n",
        "    c: float = 299792458  # Speed of light in meters per second\n",
        "    m: float = float(input('Enter mass in kg: '))  # User input for mass\n",
        "\n",
        "    print('e = m * C^2')\n",
        "    print('Mass = ' + str(m) + ' kg')\n",
        "    print('C = ' + str(c) + ' m/s')\n",
        "    print(\"e = \" + str(m * c**2) + \" Joules\")  # Energy formula\n",
        "\n",
        "# Function call should be outside the function\n",
        "if __name__ == '__main__':\n",
        "    energy()\n"
      ],
      "metadata": {
        "colab": {
          "base_uri": "https://localhost:8080/"
        },
        "id": "pdGzDU_zOTku",
        "outputId": "53850238-543a-4698-bc3c-cae15851d2e9"
      },
      "execution_count": 24,
      "outputs": [
        {
          "output_type": "stream",
          "name": "stdout",
          "text": [
            "Enter mass in kg: 12\n",
            "e = m * C^2\n",
            "Mass = 12.0 kg\n",
            "C = 299792458 m/s\n",
            "e = 1.0785062144841811e+18 Joules\n"
          ]
        }
      ]
    },
    {
      "cell_type": "code",
      "source": [
        "print('03_feet_to_inches')\n",
        "\n",
        "inch: int = 12\n",
        "\n",
        "def foot():\n",
        " feet: int = int(input('Enter feet: '))\n",
        " print('There are ' + str(feet * inch) + ' inches in ' + str(feet) + ' feet.')\n",
        "\n",
        "if __name__ == '__main__':\n",
        "    foot()\n",
        ""
      ],
      "metadata": {
        "colab": {
          "base_uri": "https://localhost:8080/"
        },
        "id": "ts9VZSb6TbCJ",
        "outputId": "f2b94280-6909-4e89-8263-024208bc62d3"
      },
      "execution_count": 28,
      "outputs": [
        {
          "output_type": "stream",
          "name": "stdout",
          "text": [
            "03_feet_to_inches\n",
            "Enter feet: 45\n",
            "There are 540 inches in 45 feet.\n"
          ]
        }
      ]
    },
    {
      "cell_type": "code",
      "source": [
        "import math\n",
        "print('04_pythagorean_theorem')\n",
        "def pythagorean():\n",
        "  ab:float = float(input('Enter the length of side ab: '))\n",
        "  ac:float = float(input('Enter the length of side ac: '))\n",
        "  bc:float = math.sqrt(ab**2 + ac**2)\n",
        "  print('The length of side ab is: ' + str(ab))\n",
        "  print('The length of side bc is: ' + str(bc))\n",
        "\n",
        "if __name__ == '__main__':\n",
        "    pythagorean()\n"
      ],
      "metadata": {
        "colab": {
          "base_uri": "https://localhost:8080/"
        },
        "id": "q63prmkQT74N",
        "outputId": "857958af-40f8-43fa-99c5-c18830dd68f4"
      },
      "execution_count": 31,
      "outputs": [
        {
          "output_type": "stream",
          "name": "stdout",
          "text": [
            "04_pythagorean_theorem\n",
            "Enter the length of side ab: 4\n",
            "Enter the length of side ac: 5.8\n",
            "The length of side ab is: 4.0\n",
            "The length of side bc is: 7.045565981523415\n"
          ]
        }
      ]
    },
    {
      "cell_type": "code",
      "source": [
        "print('05_remainder_division')\n",
        "\n",
        "def remainder():\n",
        "    num1: int = int(input('Enter first number: '))  # Convert input to int\n",
        "    num2: int = int(input('Enter second number: '))  # Convert input to int\n",
        "\n",
        "    quotient: int = num1 // num2  # Use // for integer division\n",
        "    remainder: int = num1 % num2\n",
        "\n",
        "    print(f'The quotient is {quotient} and remainder is {remainder} for {num1} divided by {num2}')\n",
        "\n",
        "    # Check divisibility\n",
        "    if remainder == 0:\n",
        "        print(f'{num1} is completely divisible by {num2}.')\n",
        "    else:\n",
        "        print(f'{num1} is not completely divisible by {num2}.')\n",
        "\n",
        "# Call the function\n",
        "if __name__ == '__main__':\n",
        "    remainder()\n"
      ],
      "metadata": {
        "colab": {
          "base_uri": "https://localhost:8080/"
        },
        "id": "EzD_QeV3UxJc",
        "outputId": "d3bce94e-0882-442c-b030-d3bdaa38e18d"
      },
      "execution_count": 40,
      "outputs": [
        {
          "output_type": "stream",
          "name": "stdout",
          "text": [
            "05_remainder_division\n",
            "Enter first number: 16\n",
            "Enter second number: 3\n",
            "The quotient is 5 and remainder is 1 for 16 divided by 3\n",
            "16 is not completely divisible by 3.\n"
          ]
        }
      ]
    },
    {
      "cell_type": "code",
      "source": [
        "print('06_rolldice')\n",
        "def roll_dice():\n",
        "    dice1: int = random.randint(1, 6)\n",
        "    dice2: int = random.randint(1, 6)\n",
        "    total: int = dice1 + dice2\n",
        "    print(f'Total of Two dice: {total}')\n",
        "if __name__ == '__main__':\n",
        "        roll_dice()"
      ],
      "metadata": {
        "colab": {
          "base_uri": "https://localhost:8080/"
        },
        "id": "if-7I3zjWKPp",
        "outputId": "24378893-e9f5-4674-8575-572859149959"
      },
      "execution_count": 53,
      "outputs": [
        {
          "output_type": "stream",
          "name": "stdout",
          "text": [
            "06_rolldice\n",
            "Total of Two dice: 4\n"
          ]
        }
      ]
    },
    {
      "cell_type": "code",
      "source": [
        "print('06_seconds_in_year')\n",
        "def seconds_in_year():\n",
        "    seconds_in_minute: int = 60\n",
        "    seconds_in_hour: int = 60 * 60\n",
        "    seconds_in_day: int = 24 * 60 * 60\n",
        "    seconds_in_year: int = 365 * seconds_in_day\n",
        "    print(f'There are {seconds_in_year} seconds in a year.')\n",
        "\n",
        "if __name__ == '__main__':\n",
        "        seconds_in_year()\n"
      ],
      "metadata": {
        "colab": {
          "base_uri": "https://localhost:8080/"
        },
        "id": "OSavrhIBWbvc",
        "outputId": "a99ed2b5-4c9b-4516-8e0f-a2e9c16cd3a5"
      },
      "execution_count": 50,
      "outputs": [
        {
          "output_type": "stream",
          "name": "stdout",
          "text": [
            "06_seconds_in_year\n",
            "There are 31536000 seconds in a year.\n"
          ]
        }
      ]
    },
    {
      "cell_type": "code",
      "source": [
        "print('07_tiny_mad_lib')\n",
        "def mad_lib():\n",
        "    noun: str = input('Enter a noun: ')\n",
        "    verb: str = input('Enter a verb: ')\n",
        "    adjective: str = input('Enter an adjective: ')\n",
        "    print(f'Do you {verb} {adjective} {noun} ?')\n",
        "\n",
        "if __name__ == \"__main__\" :\n",
        "  mad_lib()"
      ],
      "metadata": {
        "colab": {
          "base_uri": "https://localhost:8080/"
        },
        "id": "LdmgIVtxW12X",
        "outputId": "e5509104-b8bf-49e9-851c-6e82bb6a65fd"
      },
      "execution_count": 59,
      "outputs": [
        {
          "output_type": "stream",
          "name": "stdout",
          "text": [
            "07_tiny_mad_lib\n",
            "Enter a noun: Iqra\n",
            "Enter a verb: playing\n",
            "Enter an adjective: Actively\n",
            "Do you playing Actively Iqra ?\n"
          ]
        }
      ]
    }
  ]
}